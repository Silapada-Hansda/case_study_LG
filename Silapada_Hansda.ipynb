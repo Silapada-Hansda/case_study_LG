{
 "cells": [
  {
   "cell_type": "code",
   "execution_count": null,
   "id": "9db12853",
   "metadata": {},
   "outputs": [],
   "source": [
    "#pd.reset_option('all')"
   ]
  },
  {
   "cell_type": "code",
   "execution_count": null,
   "id": "5edc8471",
   "metadata": {},
   "outputs": [],
   "source": [
    "#importing the required libraries\n",
    "import pandas as pd , numpy as np, matplotlib.pyplot as plt, warnings ,seaborn as sns"
   ]
  },
  {
   "cell_type": "code",
   "execution_count": null,
   "id": "d7532efe",
   "metadata": {},
   "outputs": [],
   "source": [
    "#For the output of plotting commands to be displayed inline\n",
    "%matplotlib inline\n",
    "\n",
    "#To Suppress Warnings\n",
    "warnings.filterwarnings(\"ignore\")\n",
    "pd.set_option(\"max_rows\", None)\n",
    "pd.set_option(\"max_columns\", None)\n"
   ]
  },
  {
   "cell_type": "code",
   "execution_count": null,
   "id": "db2ecbf6",
   "metadata": {},
   "outputs": [],
   "source": [
    "loan_df= pd.read_csv(\"loan.csv\")"
   ]
  },
  {
   "cell_type": "code",
   "execution_count": null,
   "id": "f3b85ff6",
   "metadata": {},
   "outputs": [],
   "source": [
    "loan_df.head()"
   ]
  },
  {
   "cell_type": "code",
   "execution_count": null,
   "id": "90ecbba6",
   "metadata": {},
   "outputs": [],
   "source": [
    "loan_df.shape"
   ]
  },
  {
   "cell_type": "code",
   "execution_count": null,
   "id": "6af4c86f",
   "metadata": {},
   "outputs": [],
   "source": [
    "loan_df.dropna(how='all',axis=1,inplace=True)"
   ]
  },
  {
   "cell_type": "code",
   "execution_count": null,
   "id": "84e41195",
   "metadata": {},
   "outputs": [],
   "source": [
    "loan_df.shape"
   ]
  },
  {
   "cell_type": "code",
   "execution_count": null,
   "id": "6995eb36",
   "metadata": {},
   "outputs": [],
   "source": [
    "data_dict= pd.read_excel(\"Data_Dictionary.xlsx\")\n",
    "data_dict.dropna(how='all', axis='columns',inplace=True)\n",
    "data_dict.dropna(how='any', axis='rows',inplace=True)"
   ]
  },
  {
   "cell_type": "code",
   "execution_count": null,
   "id": "354903e4",
   "metadata": {},
   "outputs": [],
   "source": [
    "data_dict.set_index('LoanStatNew',inplace=True)"
   ]
  },
  {
   "cell_type": "code",
   "execution_count": null,
   "id": "fb1663d7",
   "metadata": {
    "scrolled": true
   },
   "outputs": [],
   "source": [
    "pd.set_option('max_colwidth', None)\n",
    "data_dict.loc[loan_df.columns.values]"
   ]
  },
  {
   "cell_type": "code",
   "execution_count": null,
   "id": "482497e8",
   "metadata": {},
   "outputs": [],
   "source": [
    "pd.reset_option('max_colwidth')"
   ]
  },
  {
   "cell_type": "markdown",
   "id": "98c781b3",
   "metadata": {},
   "source": [
    " ## doubts on variables   \n",
    "    - open_acc\t\n",
    "    - pub_rec\t\n",
    "    - revol_bal\t\n",
    "    - revol_util\t\n",
    "    - total_acc\n",
    "    - initial_list_status\n",
    "    - collections_12_mths_ex_med\n",
    "    - policy_code\n",
    "    - acc_now_delinq\n",
    "    - chargeoff_within_12_mths\n",
    "    - delinq_amnt\t"
   ]
  },
  {
   "cell_type": "code",
   "execution_count": null,
   "id": "335596b7",
   "metadata": {},
   "outputs": [],
   "source": [
    "non_driving_variables = ['funded_amnt','funded_amnt_inv','url','delinq_2yrs','inq_last_6mths','mths_since_last_delinq',\n",
    "                         'out_prncp_inv','total_pymnt','total_pymnt_inv','total_rec_prncp','total_rec_int','total_rec_late_fee',\n",
    "                        'recoveries','collection_recovery_fee','last_pymnt_d','last_pymnt_amnt','next_pymnt_d','last_credit_pull_d',\n",
    "                        ]\n"
   ]
  },
  {
   "cell_type": "code",
   "execution_count": null,
   "id": "fc1de0eb",
   "metadata": {},
   "outputs": [],
   "source": [
    "loan_df.drop(columns=non_driving_variables,axis=1,inplace=True)"
   ]
  },
  {
   "cell_type": "code",
   "execution_count": null,
   "id": "ea127c34",
   "metadata": {},
   "outputs": [],
   "source": [
    "loan_df.shape"
   ]
  }
 ],
 "metadata": {
  "kernelspec": {
   "display_name": "Python 3",
   "language": "python",
   "name": "python3"
  },
  "language_info": {
   "codemirror_mode": {
    "name": "ipython",
    "version": 3
   },
   "file_extension": ".py",
   "mimetype": "text/x-python",
   "name": "python",
   "nbconvert_exporter": "python",
   "pygments_lexer": "ipython3",
   "version": "3.8.8"
  }
 },
 "nbformat": 4,
 "nbformat_minor": 5
}
