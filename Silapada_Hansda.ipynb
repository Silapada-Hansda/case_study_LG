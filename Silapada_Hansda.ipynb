{
 "cells": [
  {
   "cell_type": "code",
   "execution_count": 88,
   "id": "a4b18a8a",
   "metadata": {},
   "outputs": [],
   "source": [
    "#pd.reset_option('all')"
   ]
  },
  {
   "cell_type": "code",
   "execution_count": 143,
   "id": "f4b1b4b7",
   "metadata": {},
   "outputs": [],
   "source": [
    "#importing the required libraries\n",
    "import pandas as pd , numpy as np, matplotlib.pyplot as plt, warnings ,seaborn as sns"
   ]
  },
  {
   "cell_type": "code",
   "execution_count": 144,
   "id": "fad1ea75",
   "metadata": {},
   "outputs": [],
   "source": [
    "#For the output of plotting commands to be displayed inline\n",
    "%matplotlib inline\n",
    "\n",
    "#To Suppress Warnings\n",
    "warnings.filterwarnings(\"ignore\")\n",
    "pd.set_option(\"max_rows\", None)\n",
    "pd.set_option(\"max_columns\", None)\n"
   ]
  },
  {
   "cell_type": "code",
   "execution_count": 145,
   "id": "5a97712e",
   "metadata": {},
   "outputs": [],
   "source": [
    "loan_df= pd.read_csv(\"loan.csv\")"
   ]
  },
  {
   "cell_type": "code",
   "execution_count": 240,
   "id": "58c1d8b6",
   "metadata": {},
   "outputs": [
    {
     "data": {
      "text/html": [
       "<div>\n",
       "<style scoped>\n",
       "    .dataframe tbody tr th:only-of-type {\n",
       "        vertical-align: middle;\n",
       "    }\n",
       "\n",
       "    .dataframe tbody tr th {\n",
       "        vertical-align: top;\n",
       "    }\n",
       "\n",
       "    .dataframe thead th {\n",
       "        text-align: right;\n",
       "    }\n",
       "</style>\n",
       "<table border=\"1\" class=\"dataframe\">\n",
       "  <thead>\n",
       "    <tr style=\"text-align: right;\">\n",
       "      <th></th>\n",
       "      <th>loan_amnt</th>\n",
       "      <th>term</th>\n",
       "      <th>int_rate</th>\n",
       "      <th>installment</th>\n",
       "      <th>grade</th>\n",
       "      <th>sub_grade</th>\n",
       "      <th>emp_title</th>\n",
       "      <th>emp_length</th>\n",
       "      <th>home_ownership</th>\n",
       "      <th>annual_inc</th>\n",
       "      <th>verification_status</th>\n",
       "      <th>issue_d</th>\n",
       "      <th>loan_status</th>\n",
       "      <th>purpose</th>\n",
       "      <th>title</th>\n",
       "      <th>zip_code</th>\n",
       "      <th>addr_state</th>\n",
       "      <th>dti</th>\n",
       "      <th>earliest_cr_line</th>\n",
       "      <th>open_acc</th>\n",
       "      <th>pub_rec</th>\n",
       "      <th>revol_bal</th>\n",
       "      <th>revol_util</th>\n",
       "      <th>total_acc</th>\n",
       "      <th>out_prncp</th>\n",
       "      <th>application_type</th>\n",
       "      <th>pub_rec_bankruptcies</th>\n",
       "    </tr>\n",
       "  </thead>\n",
       "  <tbody>\n",
       "    <tr>\n",
       "      <th>0</th>\n",
       "      <td>5000</td>\n",
       "      <td>36 months</td>\n",
       "      <td>10.65%</td>\n",
       "      <td>162.87</td>\n",
       "      <td>B</td>\n",
       "      <td>B2</td>\n",
       "      <td>NaN</td>\n",
       "      <td>10+ years</td>\n",
       "      <td>RENT</td>\n",
       "      <td>24000.0</td>\n",
       "      <td>Verified</td>\n",
       "      <td>11-Dec</td>\n",
       "      <td>1</td>\n",
       "      <td>credit_card</td>\n",
       "      <td>Computer</td>\n",
       "      <td>860xx</td>\n",
       "      <td>AZ</td>\n",
       "      <td>27.65</td>\n",
       "      <td>Jan-85</td>\n",
       "      <td>3</td>\n",
       "      <td>0</td>\n",
       "      <td>13648</td>\n",
       "      <td>83.70%</td>\n",
       "      <td>9</td>\n",
       "      <td>0.0</td>\n",
       "      <td>INDIVIDUAL</td>\n",
       "      <td>0.0</td>\n",
       "    </tr>\n",
       "    <tr>\n",
       "      <th>1</th>\n",
       "      <td>2500</td>\n",
       "      <td>60 months</td>\n",
       "      <td>15.27%</td>\n",
       "      <td>59.83</td>\n",
       "      <td>C</td>\n",
       "      <td>C4</td>\n",
       "      <td>Ryder</td>\n",
       "      <td>&lt; 1 year</td>\n",
       "      <td>RENT</td>\n",
       "      <td>30000.0</td>\n",
       "      <td>Source Verified</td>\n",
       "      <td>11-Dec</td>\n",
       "      <td>0</td>\n",
       "      <td>car</td>\n",
       "      <td>bike</td>\n",
       "      <td>309xx</td>\n",
       "      <td>GA</td>\n",
       "      <td>1.00</td>\n",
       "      <td>Apr-99</td>\n",
       "      <td>3</td>\n",
       "      <td>0</td>\n",
       "      <td>1687</td>\n",
       "      <td>9.40%</td>\n",
       "      <td>4</td>\n",
       "      <td>0.0</td>\n",
       "      <td>INDIVIDUAL</td>\n",
       "      <td>0.0</td>\n",
       "    </tr>\n",
       "    <tr>\n",
       "      <th>2</th>\n",
       "      <td>2400</td>\n",
       "      <td>36 months</td>\n",
       "      <td>15.96%</td>\n",
       "      <td>84.33</td>\n",
       "      <td>C</td>\n",
       "      <td>C5</td>\n",
       "      <td>NaN</td>\n",
       "      <td>10+ years</td>\n",
       "      <td>RENT</td>\n",
       "      <td>12252.0</td>\n",
       "      <td>Not Verified</td>\n",
       "      <td>11-Dec</td>\n",
       "      <td>1</td>\n",
       "      <td>small_business</td>\n",
       "      <td>real estate business</td>\n",
       "      <td>606xx</td>\n",
       "      <td>IL</td>\n",
       "      <td>8.72</td>\n",
       "      <td>1-Nov</td>\n",
       "      <td>2</td>\n",
       "      <td>0</td>\n",
       "      <td>2956</td>\n",
       "      <td>98.50%</td>\n",
       "      <td>10</td>\n",
       "      <td>0.0</td>\n",
       "      <td>INDIVIDUAL</td>\n",
       "      <td>0.0</td>\n",
       "    </tr>\n",
       "    <tr>\n",
       "      <th>3</th>\n",
       "      <td>10000</td>\n",
       "      <td>36 months</td>\n",
       "      <td>13.49%</td>\n",
       "      <td>339.31</td>\n",
       "      <td>C</td>\n",
       "      <td>C1</td>\n",
       "      <td>AIR RESOURCES BOARD</td>\n",
       "      <td>10+ years</td>\n",
       "      <td>RENT</td>\n",
       "      <td>49200.0</td>\n",
       "      <td>Source Verified</td>\n",
       "      <td>11-Dec</td>\n",
       "      <td>1</td>\n",
       "      <td>other</td>\n",
       "      <td>personel</td>\n",
       "      <td>917xx</td>\n",
       "      <td>CA</td>\n",
       "      <td>20.00</td>\n",
       "      <td>Feb-96</td>\n",
       "      <td>10</td>\n",
       "      <td>0</td>\n",
       "      <td>5598</td>\n",
       "      <td>21%</td>\n",
       "      <td>37</td>\n",
       "      <td>0.0</td>\n",
       "      <td>INDIVIDUAL</td>\n",
       "      <td>0.0</td>\n",
       "    </tr>\n",
       "    <tr>\n",
       "      <th>5</th>\n",
       "      <td>5000</td>\n",
       "      <td>36 months</td>\n",
       "      <td>7.90%</td>\n",
       "      <td>156.46</td>\n",
       "      <td>A</td>\n",
       "      <td>A4</td>\n",
       "      <td>Veolia Transportaton</td>\n",
       "      <td>3 years</td>\n",
       "      <td>RENT</td>\n",
       "      <td>36000.0</td>\n",
       "      <td>Source Verified</td>\n",
       "      <td>11-Dec</td>\n",
       "      <td>1</td>\n",
       "      <td>wedding</td>\n",
       "      <td>My wedding loan I promise to pay back</td>\n",
       "      <td>852xx</td>\n",
       "      <td>AZ</td>\n",
       "      <td>11.20</td>\n",
       "      <td>4-Nov</td>\n",
       "      <td>9</td>\n",
       "      <td>0</td>\n",
       "      <td>7963</td>\n",
       "      <td>28.30%</td>\n",
       "      <td>12</td>\n",
       "      <td>0.0</td>\n",
       "      <td>INDIVIDUAL</td>\n",
       "      <td>0.0</td>\n",
       "    </tr>\n",
       "  </tbody>\n",
       "</table>\n",
       "</div>"
      ],
      "text/plain": [
       "   loan_amnt        term int_rate  installment grade sub_grade  \\\n",
       "0       5000   36 months   10.65%       162.87     B        B2   \n",
       "1       2500   60 months   15.27%        59.83     C        C4   \n",
       "2       2400   36 months   15.96%        84.33     C        C5   \n",
       "3      10000   36 months   13.49%       339.31     C        C1   \n",
       "5       5000   36 months    7.90%       156.46     A        A4   \n",
       "\n",
       "              emp_title emp_length home_ownership  annual_inc  \\\n",
       "0                   NaN  10+ years           RENT     24000.0   \n",
       "1                 Ryder   < 1 year           RENT     30000.0   \n",
       "2                   NaN  10+ years           RENT     12252.0   \n",
       "3   AIR RESOURCES BOARD  10+ years           RENT     49200.0   \n",
       "5  Veolia Transportaton    3 years           RENT     36000.0   \n",
       "\n",
       "  verification_status issue_d  loan_status         purpose  \\\n",
       "0            Verified  11-Dec            1     credit_card   \n",
       "1     Source Verified  11-Dec            0             car   \n",
       "2        Not Verified  11-Dec            1  small_business   \n",
       "3     Source Verified  11-Dec            1           other   \n",
       "5     Source Verified  11-Dec            1         wedding   \n",
       "\n",
       "                                   title zip_code addr_state    dti  \\\n",
       "0                               Computer    860xx         AZ  27.65   \n",
       "1                                   bike    309xx         GA   1.00   \n",
       "2                   real estate business    606xx         IL   8.72   \n",
       "3                               personel    917xx         CA  20.00   \n",
       "5  My wedding loan I promise to pay back    852xx         AZ  11.20   \n",
       "\n",
       "  earliest_cr_line  open_acc  pub_rec  revol_bal revol_util  total_acc  \\\n",
       "0           Jan-85         3        0      13648     83.70%          9   \n",
       "1           Apr-99         3        0       1687      9.40%          4   \n",
       "2            1-Nov         2        0       2956     98.50%         10   \n",
       "3           Feb-96        10        0       5598        21%         37   \n",
       "5            4-Nov         9        0       7963     28.30%         12   \n",
       "\n",
       "   out_prncp application_type  pub_rec_bankruptcies  \n",
       "0        0.0       INDIVIDUAL                   0.0  \n",
       "1        0.0       INDIVIDUAL                   0.0  \n",
       "2        0.0       INDIVIDUAL                   0.0  \n",
       "3        0.0       INDIVIDUAL                   0.0  \n",
       "5        0.0       INDIVIDUAL                   0.0  "
      ]
     },
     "execution_count": 240,
     "metadata": {},
     "output_type": "execute_result"
    }
   ],
   "source": [
    "loan_df.head()"
   ]
  },
  {
   "cell_type": "code",
   "execution_count": 147,
   "id": "f77cb914",
   "metadata": {},
   "outputs": [
    {
     "data": {
      "text/plain": [
       "(39717, 111)"
      ]
     },
     "execution_count": 147,
     "metadata": {},
     "output_type": "execute_result"
    }
   ],
   "source": [
    "loan_df.shape"
   ]
  },
  {
   "cell_type": "code",
   "execution_count": 148,
   "id": "f0352a46",
   "metadata": {},
   "outputs": [],
   "source": [
    "loan_df.columns = loan_df.columns.str.replace(' ', '')"
   ]
  },
  {
   "cell_type": "code",
   "execution_count": 149,
   "id": "da2b6a70",
   "metadata": {},
   "outputs": [],
   "source": [
    "loan_df.dropna(how='all',axis=1,inplace=True)"
   ]
  },
  {
   "cell_type": "code",
   "execution_count": 150,
   "id": "3f69327b",
   "metadata": {},
   "outputs": [
    {
     "data": {
      "text/plain": [
       "(39717, 57)"
      ]
     },
     "execution_count": 150,
     "metadata": {},
     "output_type": "execute_result"
    }
   ],
   "source": [
    "loan_df.shape"
   ]
  },
  {
   "cell_type": "code",
   "execution_count": 151,
   "id": "ddc8a3c9",
   "metadata": {},
   "outputs": [],
   "source": [
    "data_dict= pd.read_excel(\"Data_Dictionary.xlsx\")\n",
    "data_dict.dropna(how='all', axis='columns',inplace=True)\n",
    "data_dict.dropna(how='any', axis='rows',inplace=True)"
   ]
  },
  {
   "cell_type": "code",
   "execution_count": 152,
   "id": "c64c1f6d",
   "metadata": {},
   "outputs": [],
   "source": [
    "data_dict.set_index('LoanStatNew',inplace=True)"
   ]
  },
  {
   "cell_type": "code",
   "execution_count": 153,
   "id": "5f716d54",
   "metadata": {
    "scrolled": true
   },
   "outputs": [
    {
     "data": {
      "text/html": [
       "<div>\n",
       "<style scoped>\n",
       "    .dataframe tbody tr th:only-of-type {\n",
       "        vertical-align: middle;\n",
       "    }\n",
       "\n",
       "    .dataframe tbody tr th {\n",
       "        vertical-align: top;\n",
       "    }\n",
       "\n",
       "    .dataframe thead th {\n",
       "        text-align: right;\n",
       "    }\n",
       "</style>\n",
       "<table border=\"1\" class=\"dataframe\">\n",
       "  <thead>\n",
       "    <tr style=\"text-align: right;\">\n",
       "      <th></th>\n",
       "      <th>Description</th>\n",
       "    </tr>\n",
       "    <tr>\n",
       "      <th>LoanStatNew</th>\n",
       "      <th></th>\n",
       "    </tr>\n",
       "  </thead>\n",
       "  <tbody>\n",
       "    <tr>\n",
       "      <th>id</th>\n",
       "      <td>A unique LC assigned ID for the loan listing.</td>\n",
       "    </tr>\n",
       "    <tr>\n",
       "      <th>member_id</th>\n",
       "      <td>A unique LC assigned Id for the borrower member.</td>\n",
       "    </tr>\n",
       "    <tr>\n",
       "      <th>loan_amnt</th>\n",
       "      <td>The listed amount of the loan applied for by the borrower. If at some point in time, the credit department reduces the loan amount, then it will be reflected in this value.</td>\n",
       "    </tr>\n",
       "    <tr>\n",
       "      <th>funded_amnt</th>\n",
       "      <td>The total amount committed to that loan at that point in time.</td>\n",
       "    </tr>\n",
       "    <tr>\n",
       "      <th>funded_amnt_inv</th>\n",
       "      <td>The total amount committed by investors for that loan at that point in time.</td>\n",
       "    </tr>\n",
       "    <tr>\n",
       "      <th>term</th>\n",
       "      <td>The number of payments on the loan. Values are in months and can be either 36 or 60.</td>\n",
       "    </tr>\n",
       "    <tr>\n",
       "      <th>int_rate</th>\n",
       "      <td>Interest Rate on the loan</td>\n",
       "    </tr>\n",
       "    <tr>\n",
       "      <th>installment</th>\n",
       "      <td>The monthly payment owed by the borrower if the loan originates.</td>\n",
       "    </tr>\n",
       "    <tr>\n",
       "      <th>grade</th>\n",
       "      <td>LC assigned loan grade</td>\n",
       "    </tr>\n",
       "    <tr>\n",
       "      <th>sub_grade</th>\n",
       "      <td>LC assigned loan subgrade</td>\n",
       "    </tr>\n",
       "    <tr>\n",
       "      <th>emp_title</th>\n",
       "      <td>The job title supplied by the Borrower when applying for the loan.*</td>\n",
       "    </tr>\n",
       "    <tr>\n",
       "      <th>emp_length</th>\n",
       "      <td>Employment length in years. Possible values are between 0 and 10 where 0 means less than one year and 10 means ten or more years.</td>\n",
       "    </tr>\n",
       "    <tr>\n",
       "      <th>home_ownership</th>\n",
       "      <td>The home ownership status provided by the borrower during registration. Our values are: RENT, OWN, MORTGAGE, OTHER.</td>\n",
       "    </tr>\n",
       "    <tr>\n",
       "      <th>annual_inc</th>\n",
       "      <td>The self-reported annual income provided by the borrower during registration.</td>\n",
       "    </tr>\n",
       "    <tr>\n",
       "      <th>verification_status</th>\n",
       "      <td>Indicates if income was verified by LC, not verified, or if the income source was verified</td>\n",
       "    </tr>\n",
       "    <tr>\n",
       "      <th>issue_d</th>\n",
       "      <td>The month which the loan was funded</td>\n",
       "    </tr>\n",
       "    <tr>\n",
       "      <th>loan_status</th>\n",
       "      <td>Current status of the loan</td>\n",
       "    </tr>\n",
       "    <tr>\n",
       "      <th>pymnt_plan</th>\n",
       "      <td>Indicates if a payment plan has been put in place for the loan</td>\n",
       "    </tr>\n",
       "    <tr>\n",
       "      <th>url</th>\n",
       "      <td>URL for the LC page with listing data.</td>\n",
       "    </tr>\n",
       "    <tr>\n",
       "      <th>desc</th>\n",
       "      <td>Loan description provided by the borrower</td>\n",
       "    </tr>\n",
       "    <tr>\n",
       "      <th>purpose</th>\n",
       "      <td>A category provided by the borrower for the loan request.</td>\n",
       "    </tr>\n",
       "    <tr>\n",
       "      <th>title</th>\n",
       "      <td>The loan title provided by the borrower</td>\n",
       "    </tr>\n",
       "    <tr>\n",
       "      <th>zip_code</th>\n",
       "      <td>The first 3 numbers of the zip code provided by the borrower in the loan application.</td>\n",
       "    </tr>\n",
       "    <tr>\n",
       "      <th>addr_state</th>\n",
       "      <td>The state provided by the borrower in the loan application</td>\n",
       "    </tr>\n",
       "    <tr>\n",
       "      <th>dti</th>\n",
       "      <td>A ratio calculated using the borrower’s total monthly debt payments on the total debt obligations, excluding mortgage and the requested LC loan, divided by the borrower’s self-reported monthly income.</td>\n",
       "    </tr>\n",
       "    <tr>\n",
       "      <th>delinq_2yrs</th>\n",
       "      <td>The number of 30+ days past-due incidences of delinquency in the borrower's credit file for the past 2 years</td>\n",
       "    </tr>\n",
       "    <tr>\n",
       "      <th>earliest_cr_line</th>\n",
       "      <td>The month the borrower's earliest reported credit line was opened</td>\n",
       "    </tr>\n",
       "    <tr>\n",
       "      <th>inq_last_6mths</th>\n",
       "      <td>The number of inquiries in past 6 months (excluding auto and mortgage inquiries)</td>\n",
       "    </tr>\n",
       "    <tr>\n",
       "      <th>mths_since_last_delinq</th>\n",
       "      <td>The number of months since the borrower's last delinquency.</td>\n",
       "    </tr>\n",
       "    <tr>\n",
       "      <th>mths_since_last_record</th>\n",
       "      <td>The number of months since the last public record.</td>\n",
       "    </tr>\n",
       "    <tr>\n",
       "      <th>open_acc</th>\n",
       "      <td>The number of open credit lines in the borrower's credit file.</td>\n",
       "    </tr>\n",
       "    <tr>\n",
       "      <th>pub_rec</th>\n",
       "      <td>Number of derogatory public records</td>\n",
       "    </tr>\n",
       "    <tr>\n",
       "      <th>revol_bal</th>\n",
       "      <td>Total credit revolving balance</td>\n",
       "    </tr>\n",
       "    <tr>\n",
       "      <th>revol_util</th>\n",
       "      <td>Revolving line utilization rate, or the amount of credit the borrower is using relative to all available revolving credit.</td>\n",
       "    </tr>\n",
       "    <tr>\n",
       "      <th>total_acc</th>\n",
       "      <td>The total number of credit lines currently in the borrower's credit file</td>\n",
       "    </tr>\n",
       "    <tr>\n",
       "      <th>initial_list_status</th>\n",
       "      <td>The initial listing status of the loan. Possible values are – W, F</td>\n",
       "    </tr>\n",
       "    <tr>\n",
       "      <th>out_prncp</th>\n",
       "      <td>Remaining outstanding principal for total amount funded</td>\n",
       "    </tr>\n",
       "    <tr>\n",
       "      <th>out_prncp_inv</th>\n",
       "      <td>Remaining outstanding principal for portion of total amount funded by investors</td>\n",
       "    </tr>\n",
       "    <tr>\n",
       "      <th>total_pymnt</th>\n",
       "      <td>Payments received to date for total amount funded</td>\n",
       "    </tr>\n",
       "    <tr>\n",
       "      <th>total_pymnt_inv</th>\n",
       "      <td>Payments received to date for portion of total amount funded by investors</td>\n",
       "    </tr>\n",
       "    <tr>\n",
       "      <th>total_rec_prncp</th>\n",
       "      <td>Principal received to date</td>\n",
       "    </tr>\n",
       "    <tr>\n",
       "      <th>total_rec_int</th>\n",
       "      <td>Interest received to date</td>\n",
       "    </tr>\n",
       "    <tr>\n",
       "      <th>total_rec_late_fee</th>\n",
       "      <td>Late fees received to date</td>\n",
       "    </tr>\n",
       "    <tr>\n",
       "      <th>recoveries</th>\n",
       "      <td>post charge off gross recovery</td>\n",
       "    </tr>\n",
       "    <tr>\n",
       "      <th>collection_recovery_fee</th>\n",
       "      <td>post charge off collection fee</td>\n",
       "    </tr>\n",
       "    <tr>\n",
       "      <th>last_pymnt_d</th>\n",
       "      <td>Last month payment was received</td>\n",
       "    </tr>\n",
       "    <tr>\n",
       "      <th>last_pymnt_amnt</th>\n",
       "      <td>Last total payment amount received</td>\n",
       "    </tr>\n",
       "    <tr>\n",
       "      <th>next_pymnt_d</th>\n",
       "      <td>Next scheduled payment date</td>\n",
       "    </tr>\n",
       "    <tr>\n",
       "      <th>last_credit_pull_d</th>\n",
       "      <td>The most recent month LC pulled credit for this loan</td>\n",
       "    </tr>\n",
       "    <tr>\n",
       "      <th>collections_12_mths_ex_med</th>\n",
       "      <td>Number of collections in 12 months excluding medical collections</td>\n",
       "    </tr>\n",
       "    <tr>\n",
       "      <th>policy_code</th>\n",
       "      <td>publicly available policy_code=1\\nnew products not publicly available policy_code=2</td>\n",
       "    </tr>\n",
       "    <tr>\n",
       "      <th>application_type</th>\n",
       "      <td>Indicates whether the loan is an individual application or a joint application with two co-borrowers</td>\n",
       "    </tr>\n",
       "    <tr>\n",
       "      <th>acc_now_delinq</th>\n",
       "      <td>The number of accounts on which the borrower is now delinquent.</td>\n",
       "    </tr>\n",
       "    <tr>\n",
       "      <th>chargeoff_within_12_mths</th>\n",
       "      <td>Number of charge-offs within 12 months</td>\n",
       "    </tr>\n",
       "    <tr>\n",
       "      <th>delinq_amnt</th>\n",
       "      <td>The past-due amount owed for the accounts on which the borrower is now delinquent.</td>\n",
       "    </tr>\n",
       "    <tr>\n",
       "      <th>pub_rec_bankruptcies</th>\n",
       "      <td>Number of public record bankruptcies</td>\n",
       "    </tr>\n",
       "    <tr>\n",
       "      <th>tax_liens</th>\n",
       "      <td>Number of tax liens</td>\n",
       "    </tr>\n",
       "  </tbody>\n",
       "</table>\n",
       "</div>"
      ],
      "text/plain": [
       "                                                                                                                                                                                                                         Description\n",
       "LoanStatNew                                                                                                                                                                                                                         \n",
       "id                                                                                                                                                                                     A unique LC assigned ID for the loan listing.\n",
       "member_id                                                                                                                                                                           A unique LC assigned Id for the borrower member.\n",
       "loan_amnt                                               The listed amount of the loan applied for by the borrower. If at some point in time, the credit department reduces the loan amount, then it will be reflected in this value.\n",
       "funded_amnt                                                                                                                                                           The total amount committed to that loan at that point in time.\n",
       "funded_amnt_inv                                                                                                                                         The total amount committed by investors for that loan at that point in time.\n",
       "term                                                                                                                                            The number of payments on the loan. Values are in months and can be either 36 or 60.\n",
       "int_rate                                                                                                                                                                                                   Interest Rate on the loan\n",
       "installment                                                                                                                                                         The monthly payment owed by the borrower if the loan originates.\n",
       "grade                                                                                                                                                                                                         LC assigned loan grade\n",
       "sub_grade                                                                                                                                                                                                  LC assigned loan subgrade\n",
       "emp_title                                                                                                                                                        The job title supplied by the Borrower when applying for the loan.*\n",
       "emp_length                                                                                        Employment length in years. Possible values are between 0 and 10 where 0 means less than one year and 10 means ten or more years. \n",
       "home_ownership                                                                                                   The home ownership status provided by the borrower during registration. Our values are: RENT, OWN, MORTGAGE, OTHER.\n",
       "annual_inc                                                                                                                                             The self-reported annual income provided by the borrower during registration.\n",
       "verification_status                                                                                                                       Indicates if income was verified by LC, not verified, or if the income source was verified\n",
       "issue_d                                                                                                                                                                                          The month which the loan was funded\n",
       "loan_status                                                                                                                                                                                               Current status of the loan\n",
       "pymnt_plan                                                                                                                                                            Indicates if a payment plan has been put in place for the loan\n",
       "url                                                                                                                                                                                           URL for the LC page with listing data.\n",
       "desc                                                                                                                                                                                       Loan description provided by the borrower\n",
       "purpose                                                                                                                                                                   A category provided by the borrower for the loan request. \n",
       "title                                                                                                                                                                                        The loan title provided by the borrower\n",
       "zip_code                                                                                                                                       The first 3 numbers of the zip code provided by the borrower in the loan application.\n",
       "addr_state                                                                                                                                                                The state provided by the borrower in the loan application\n",
       "dti                         A ratio calculated using the borrower’s total monthly debt payments on the total debt obligations, excluding mortgage and the requested LC loan, divided by the borrower’s self-reported monthly income.\n",
       "delinq_2yrs                                                                                                             The number of 30+ days past-due incidences of delinquency in the borrower's credit file for the past 2 years\n",
       "earliest_cr_line                                                                                                                                                   The month the borrower's earliest reported credit line was opened\n",
       "inq_last_6mths                                                                                                                                      The number of inquiries in past 6 months (excluding auto and mortgage inquiries)\n",
       "mths_since_last_delinq                                                                                                                                                   The number of months since the borrower's last delinquency.\n",
       "mths_since_last_record                                                                                                                                                            The number of months since the last public record.\n",
       "open_acc                                                                                                                                                              The number of open credit lines in the borrower's credit file.\n",
       "pub_rec                                                                                                                                                                                          Number of derogatory public records\n",
       "revol_bal                                                                                                                                                                                             Total credit revolving balance\n",
       "revol_util                                                                                                Revolving line utilization rate, or the amount of credit the borrower is using relative to all available revolving credit.\n",
       "total_acc                                                                                                                                                   The total number of credit lines currently in the borrower's credit file\n",
       "initial_list_status                                                                                                                                               The initial listing status of the loan. Possible values are – W, F\n",
       "out_prncp                                                                                                                                                                    Remaining outstanding principal for total amount funded\n",
       "out_prncp_inv                                                                                                                                        Remaining outstanding principal for portion of total amount funded by investors\n",
       "total_pymnt                                                                                                                                                                        Payments received to date for total amount funded\n",
       "total_pymnt_inv                                                                                                                                            Payments received to date for portion of total amount funded by investors\n",
       "total_rec_prncp                                                                                                                                                                                           Principal received to date\n",
       "total_rec_int                                                                                                                                                                                              Interest received to date\n",
       "total_rec_late_fee                                                                                                                                                                                        Late fees received to date\n",
       "recoveries                                                                                                                                                                                            post charge off gross recovery\n",
       "collection_recovery_fee                                                                                                                                                                               post charge off collection fee\n",
       "last_pymnt_d                                                                                                                                                                                         Last month payment was received\n",
       "last_pymnt_amnt                                                                                                                                                                                   Last total payment amount received\n",
       "next_pymnt_d                                                                                                                                                                                             Next scheduled payment date\n",
       "last_credit_pull_d                                                                                                                                                              The most recent month LC pulled credit for this loan\n",
       "collections_12_mths_ex_med                                                                                                                                          Number of collections in 12 months excluding medical collections\n",
       "policy_code                                                                                                                                      publicly available policy_code=1\\nnew products not publicly available policy_code=2\n",
       "application_type                                                                                                                Indicates whether the loan is an individual application or a joint application with two co-borrowers\n",
       "acc_now_delinq                                                                                                                                                       The number of accounts on which the borrower is now delinquent.\n",
       "chargeoff_within_12_mths                                                                                                                                                                      Number of charge-offs within 12 months\n",
       "delinq_amnt                                                                                                                                       The past-due amount owed for the accounts on which the borrower is now delinquent.\n",
       "pub_rec_bankruptcies                                                                                                                                                                            Number of public record bankruptcies\n",
       "tax_liens                                                                                                                                                                                                        Number of tax liens"
      ]
     },
     "execution_count": 153,
     "metadata": {},
     "output_type": "execute_result"
    }
   ],
   "source": [
    "pd.set_option('max_colwidth', None)\n",
    "data_dict.loc[loan_df.columns.values]"
   ]
  },
  {
   "cell_type": "code",
   "execution_count": 154,
   "id": "e8ac4763",
   "metadata": {},
   "outputs": [],
   "source": [
    "pd.reset_option('max_colwidth')"
   ]
  },
  {
   "cell_type": "markdown",
   "id": "d4e22319",
   "metadata": {},
   "source": [
    " ## doubts on variables   \n",
    "    - open_acc\t\n",
    "    - pub_rec\t\n",
    "    - revol_bal\t\n",
    "    - revol_util\t\n",
    "    - total_acc\n",
    "    - initial_list_status\n",
    "    - collections_12_mths_ex_med\n",
    "    - policy_code\n",
    "    - acc_now_delinq\n",
    "    - chargeoff_within_12_mths\n",
    "    - delinq_amnt\t"
   ]
  },
  {
   "cell_type": "code",
   "execution_count": 155,
   "id": "a66e8bef",
   "metadata": {},
   "outputs": [],
   "source": [
    "non_driving_variables = ['funded_amnt','funded_amnt_inv','url','delinq_2yrs','inq_last_6mths','mths_since_last_delinq',\n",
    "                         'out_prncp_inv','total_pymnt','total_pymnt_inv','total_rec_prncp','total_rec_int','total_rec_late_fee',\n",
    "                        'recoveries','collection_recovery_fee','last_pymnt_d','last_pymnt_amnt','next_pymnt_d','last_credit_pull_d',\n",
    "                        ]\n"
   ]
  },
  {
   "cell_type": "code",
   "execution_count": 156,
   "id": "97be10ba",
   "metadata": {},
   "outputs": [],
   "source": [
    "loan_df.drop(columns=non_driving_variables,axis=1,inplace=True)"
   ]
  },
  {
   "cell_type": "code",
   "execution_count": 157,
   "id": "2a9f8278",
   "metadata": {},
   "outputs": [
    {
     "data": {
      "text/plain": [
       "(39717, 39)"
      ]
     },
     "execution_count": 157,
     "metadata": {},
     "output_type": "execute_result"
    }
   ],
   "source": [
    "loan_df.shape"
   ]
  },
  {
   "cell_type": "code",
   "execution_count": 158,
   "id": "52ab444c",
   "metadata": {},
   "outputs": [
    {
     "data": {
      "text/plain": [
       "array(['id', 'member_id', 'loan_amnt', 'term', 'int_rate', 'installment',\n",
       "       'grade', 'sub_grade', 'emp_title', 'emp_length', 'home_ownership',\n",
       "       'annual_inc', 'verification_status', 'issue_d', 'loan_status',\n",
       "       'pymnt_plan', 'desc', 'purpose', 'title', 'zip_code', 'addr_state',\n",
       "       'dti', 'earliest_cr_line', 'mths_since_last_record', 'open_acc',\n",
       "       'pub_rec', 'revol_bal', 'revol_util', 'total_acc',\n",
       "       'initial_list_status', 'out_prncp', 'collections_12_mths_ex_med',\n",
       "       'policy_code', 'application_type', 'acc_now_delinq',\n",
       "       'chargeoff_within_12_mths', 'delinq_amnt', 'pub_rec_bankruptcies',\n",
       "       'tax_liens'], dtype=object)"
      ]
     },
     "execution_count": 158,
     "metadata": {},
     "output_type": "execute_result"
    }
   ],
   "source": [
    "loan_df.columns.values"
   ]
  },
  {
   "cell_type": "code",
   "execution_count": 159,
   "id": "1f20baa2",
   "metadata": {
    "scrolled": true
   },
   "outputs": [
    {
     "data": {
      "text/html": [
       "<div>\n",
       "<style scoped>\n",
       "    .dataframe tbody tr th:only-of-type {\n",
       "        vertical-align: middle;\n",
       "    }\n",
       "\n",
       "    .dataframe tbody tr th {\n",
       "        vertical-align: top;\n",
       "    }\n",
       "\n",
       "    .dataframe thead th {\n",
       "        text-align: right;\n",
       "    }\n",
       "</style>\n",
       "<table border=\"1\" class=\"dataframe\">\n",
       "  <thead>\n",
       "    <tr style=\"text-align: right;\">\n",
       "      <th></th>\n",
       "      <th>Description</th>\n",
       "    </tr>\n",
       "    <tr>\n",
       "      <th>LoanStatNew</th>\n",
       "      <th></th>\n",
       "    </tr>\n",
       "  </thead>\n",
       "  <tbody>\n",
       "    <tr>\n",
       "      <th>id</th>\n",
       "      <td>A unique LC assigned ID for the loan listing.</td>\n",
       "    </tr>\n",
       "    <tr>\n",
       "      <th>member_id</th>\n",
       "      <td>A unique LC assigned Id for the borrower member.</td>\n",
       "    </tr>\n",
       "    <tr>\n",
       "      <th>loan_amnt</th>\n",
       "      <td>The listed amount of the loan applied for by the borrower. If at some point in time, the credit department reduces the loan amount, then it will be reflected in this value.</td>\n",
       "    </tr>\n",
       "    <tr>\n",
       "      <th>term</th>\n",
       "      <td>The number of payments on the loan. Values are in months and can be either 36 or 60.</td>\n",
       "    </tr>\n",
       "    <tr>\n",
       "      <th>int_rate</th>\n",
       "      <td>Interest Rate on the loan</td>\n",
       "    </tr>\n",
       "    <tr>\n",
       "      <th>installment</th>\n",
       "      <td>The monthly payment owed by the borrower if the loan originates.</td>\n",
       "    </tr>\n",
       "    <tr>\n",
       "      <th>grade</th>\n",
       "      <td>LC assigned loan grade</td>\n",
       "    </tr>\n",
       "    <tr>\n",
       "      <th>sub_grade</th>\n",
       "      <td>LC assigned loan subgrade</td>\n",
       "    </tr>\n",
       "    <tr>\n",
       "      <th>emp_title</th>\n",
       "      <td>The job title supplied by the Borrower when applying for the loan.*</td>\n",
       "    </tr>\n",
       "    <tr>\n",
       "      <th>emp_length</th>\n",
       "      <td>Employment length in years. Possible values are between 0 and 10 where 0 means less than one year and 10 means ten or more years.</td>\n",
       "    </tr>\n",
       "    <tr>\n",
       "      <th>home_ownership</th>\n",
       "      <td>The home ownership status provided by the borrower during registration. Our values are: RENT, OWN, MORTGAGE, OTHER.</td>\n",
       "    </tr>\n",
       "    <tr>\n",
       "      <th>annual_inc</th>\n",
       "      <td>The self-reported annual income provided by the borrower during registration.</td>\n",
       "    </tr>\n",
       "    <tr>\n",
       "      <th>verification_status</th>\n",
       "      <td>Indicates if income was verified by LC, not verified, or if the income source was verified</td>\n",
       "    </tr>\n",
       "    <tr>\n",
       "      <th>issue_d</th>\n",
       "      <td>The month which the loan was funded</td>\n",
       "    </tr>\n",
       "    <tr>\n",
       "      <th>loan_status</th>\n",
       "      <td>Current status of the loan</td>\n",
       "    </tr>\n",
       "    <tr>\n",
       "      <th>pymnt_plan</th>\n",
       "      <td>Indicates if a payment plan has been put in place for the loan</td>\n",
       "    </tr>\n",
       "    <tr>\n",
       "      <th>desc</th>\n",
       "      <td>Loan description provided by the borrower</td>\n",
       "    </tr>\n",
       "    <tr>\n",
       "      <th>purpose</th>\n",
       "      <td>A category provided by the borrower for the loan request.</td>\n",
       "    </tr>\n",
       "    <tr>\n",
       "      <th>title</th>\n",
       "      <td>The loan title provided by the borrower</td>\n",
       "    </tr>\n",
       "    <tr>\n",
       "      <th>zip_code</th>\n",
       "      <td>The first 3 numbers of the zip code provided by the borrower in the loan application.</td>\n",
       "    </tr>\n",
       "    <tr>\n",
       "      <th>addr_state</th>\n",
       "      <td>The state provided by the borrower in the loan application</td>\n",
       "    </tr>\n",
       "    <tr>\n",
       "      <th>dti</th>\n",
       "      <td>A ratio calculated using the borrower’s total monthly debt payments on the total debt obligations, excluding mortgage and the requested LC loan, divided by the borrower’s self-reported monthly income.</td>\n",
       "    </tr>\n",
       "    <tr>\n",
       "      <th>earliest_cr_line</th>\n",
       "      <td>The month the borrower's earliest reported credit line was opened</td>\n",
       "    </tr>\n",
       "    <tr>\n",
       "      <th>mths_since_last_record</th>\n",
       "      <td>The number of months since the last public record.</td>\n",
       "    </tr>\n",
       "    <tr>\n",
       "      <th>open_acc</th>\n",
       "      <td>The number of open credit lines in the borrower's credit file.</td>\n",
       "    </tr>\n",
       "    <tr>\n",
       "      <th>pub_rec</th>\n",
       "      <td>Number of derogatory public records</td>\n",
       "    </tr>\n",
       "    <tr>\n",
       "      <th>revol_bal</th>\n",
       "      <td>Total credit revolving balance</td>\n",
       "    </tr>\n",
       "    <tr>\n",
       "      <th>revol_util</th>\n",
       "      <td>Revolving line utilization rate, or the amount of credit the borrower is using relative to all available revolving credit.</td>\n",
       "    </tr>\n",
       "    <tr>\n",
       "      <th>total_acc</th>\n",
       "      <td>The total number of credit lines currently in the borrower's credit file</td>\n",
       "    </tr>\n",
       "    <tr>\n",
       "      <th>initial_list_status</th>\n",
       "      <td>The initial listing status of the loan. Possible values are – W, F</td>\n",
       "    </tr>\n",
       "    <tr>\n",
       "      <th>out_prncp</th>\n",
       "      <td>Remaining outstanding principal for total amount funded</td>\n",
       "    </tr>\n",
       "    <tr>\n",
       "      <th>collections_12_mths_ex_med</th>\n",
       "      <td>Number of collections in 12 months excluding medical collections</td>\n",
       "    </tr>\n",
       "    <tr>\n",
       "      <th>policy_code</th>\n",
       "      <td>publicly available policy_code=1\\nnew products not publicly available policy_code=2</td>\n",
       "    </tr>\n",
       "    <tr>\n",
       "      <th>application_type</th>\n",
       "      <td>Indicates whether the loan is an individual application or a joint application with two co-borrowers</td>\n",
       "    </tr>\n",
       "    <tr>\n",
       "      <th>acc_now_delinq</th>\n",
       "      <td>The number of accounts on which the borrower is now delinquent.</td>\n",
       "    </tr>\n",
       "    <tr>\n",
       "      <th>chargeoff_within_12_mths</th>\n",
       "      <td>Number of charge-offs within 12 months</td>\n",
       "    </tr>\n",
       "    <tr>\n",
       "      <th>delinq_amnt</th>\n",
       "      <td>The past-due amount owed for the accounts on which the borrower is now delinquent.</td>\n",
       "    </tr>\n",
       "    <tr>\n",
       "      <th>pub_rec_bankruptcies</th>\n",
       "      <td>Number of public record bankruptcies</td>\n",
       "    </tr>\n",
       "    <tr>\n",
       "      <th>tax_liens</th>\n",
       "      <td>Number of tax liens</td>\n",
       "    </tr>\n",
       "  </tbody>\n",
       "</table>\n",
       "</div>"
      ],
      "text/plain": [
       "                                                                                                                                                                                                                         Description\n",
       "LoanStatNew                                                                                                                                                                                                                         \n",
       "id                                                                                                                                                                                     A unique LC assigned ID for the loan listing.\n",
       "member_id                                                                                                                                                                           A unique LC assigned Id for the borrower member.\n",
       "loan_amnt                                               The listed amount of the loan applied for by the borrower. If at some point in time, the credit department reduces the loan amount, then it will be reflected in this value.\n",
       "term                                                                                                                                            The number of payments on the loan. Values are in months and can be either 36 or 60.\n",
       "int_rate                                                                                                                                                                                                   Interest Rate on the loan\n",
       "installment                                                                                                                                                         The monthly payment owed by the borrower if the loan originates.\n",
       "grade                                                                                                                                                                                                         LC assigned loan grade\n",
       "sub_grade                                                                                                                                                                                                  LC assigned loan subgrade\n",
       "emp_title                                                                                                                                                        The job title supplied by the Borrower when applying for the loan.*\n",
       "emp_length                                                                                        Employment length in years. Possible values are between 0 and 10 where 0 means less than one year and 10 means ten or more years. \n",
       "home_ownership                                                                                                   The home ownership status provided by the borrower during registration. Our values are: RENT, OWN, MORTGAGE, OTHER.\n",
       "annual_inc                                                                                                                                             The self-reported annual income provided by the borrower during registration.\n",
       "verification_status                                                                                                                       Indicates if income was verified by LC, not verified, or if the income source was verified\n",
       "issue_d                                                                                                                                                                                          The month which the loan was funded\n",
       "loan_status                                                                                                                                                                                               Current status of the loan\n",
       "pymnt_plan                                                                                                                                                            Indicates if a payment plan has been put in place for the loan\n",
       "desc                                                                                                                                                                                       Loan description provided by the borrower\n",
       "purpose                                                                                                                                                                   A category provided by the borrower for the loan request. \n",
       "title                                                                                                                                                                                        The loan title provided by the borrower\n",
       "zip_code                                                                                                                                       The first 3 numbers of the zip code provided by the borrower in the loan application.\n",
       "addr_state                                                                                                                                                                The state provided by the borrower in the loan application\n",
       "dti                         A ratio calculated using the borrower’s total monthly debt payments on the total debt obligations, excluding mortgage and the requested LC loan, divided by the borrower’s self-reported monthly income.\n",
       "earliest_cr_line                                                                                                                                                   The month the borrower's earliest reported credit line was opened\n",
       "mths_since_last_record                                                                                                                                                            The number of months since the last public record.\n",
       "open_acc                                                                                                                                                              The number of open credit lines in the borrower's credit file.\n",
       "pub_rec                                                                                                                                                                                          Number of derogatory public records\n",
       "revol_bal                                                                                                                                                                                             Total credit revolving balance\n",
       "revol_util                                                                                                Revolving line utilization rate, or the amount of credit the borrower is using relative to all available revolving credit.\n",
       "total_acc                                                                                                                                                   The total number of credit lines currently in the borrower's credit file\n",
       "initial_list_status                                                                                                                                               The initial listing status of the loan. Possible values are – W, F\n",
       "out_prncp                                                                                                                                                                    Remaining outstanding principal for total amount funded\n",
       "collections_12_mths_ex_med                                                                                                                                          Number of collections in 12 months excluding medical collections\n",
       "policy_code                                                                                                                                      publicly available policy_code=1\\nnew products not publicly available policy_code=2\n",
       "application_type                                                                                                                Indicates whether the loan is an individual application or a joint application with two co-borrowers\n",
       "acc_now_delinq                                                                                                                                                       The number of accounts on which the borrower is now delinquent.\n",
       "chargeoff_within_12_mths                                                                                                                                                                      Number of charge-offs within 12 months\n",
       "delinq_amnt                                                                                                                                       The past-due amount owed for the accounts on which the borrower is now delinquent.\n",
       "pub_rec_bankruptcies                                                                                                                                                                            Number of public record bankruptcies\n",
       "tax_liens                                                                                                                                                                                                        Number of tax liens"
      ]
     },
     "execution_count": 159,
     "metadata": {},
     "output_type": "execute_result"
    }
   ],
   "source": [
    "pd.set_option('max_colwidth', None)\n",
    "data_dict.loc[loan_df.columns.values]"
   ]
  },
  {
   "cell_type": "code",
   "execution_count": 160,
   "id": "2b23fc3a",
   "metadata": {},
   "outputs": [],
   "source": [
    "pd.reset_option('max_colwidth')"
   ]
  },
  {
   "cell_type": "code",
   "execution_count": 161,
   "id": "8bfcd5be",
   "metadata": {
    "scrolled": true
   },
   "outputs": [
    {
     "name": "stdout",
     "output_type": "stream",
     "text": [
      "<class 'pandas.core.frame.DataFrame'>\n",
      "RangeIndex: 39717 entries, 0 to 39716\n",
      "Data columns (total 39 columns):\n",
      " #   Column                      Non-Null Count  Dtype  \n",
      "---  ------                      --------------  -----  \n",
      " 0   id                          39717 non-null  int64  \n",
      " 1   member_id                   39717 non-null  int64  \n",
      " 2   loan_amnt                   39717 non-null  int64  \n",
      " 3   term                        39717 non-null  object \n",
      " 4   int_rate                    39717 non-null  object \n",
      " 5   installment                 39717 non-null  float64\n",
      " 6   grade                       39717 non-null  object \n",
      " 7   sub_grade                   39717 non-null  object \n",
      " 8   emp_title                   37258 non-null  object \n",
      " 9   emp_length                  38642 non-null  object \n",
      " 10  home_ownership              39717 non-null  object \n",
      " 11  annual_inc                  39717 non-null  float64\n",
      " 12  verification_status         39717 non-null  object \n",
      " 13  issue_d                     39717 non-null  object \n",
      " 14  loan_status                 39717 non-null  object \n",
      " 15  pymnt_plan                  39717 non-null  object \n",
      " 16  desc                        26777 non-null  object \n",
      " 17  purpose                     39717 non-null  object \n",
      " 18  title                       39706 non-null  object \n",
      " 19  zip_code                    39717 non-null  object \n",
      " 20  addr_state                  39717 non-null  object \n",
      " 21  dti                         39717 non-null  float64\n",
      " 22  earliest_cr_line            39717 non-null  object \n",
      " 23  mths_since_last_record      2786 non-null   float64\n",
      " 24  open_acc                    39717 non-null  int64  \n",
      " 25  pub_rec                     39717 non-null  int64  \n",
      " 26  revol_bal                   39717 non-null  int64  \n",
      " 27  revol_util                  39667 non-null  object \n",
      " 28  total_acc                   39717 non-null  int64  \n",
      " 29  initial_list_status         39717 non-null  object \n",
      " 30  out_prncp                   39717 non-null  float64\n",
      " 31  collections_12_mths_ex_med  39661 non-null  float64\n",
      " 32  policy_code                 39717 non-null  int64  \n",
      " 33  application_type            39717 non-null  object \n",
      " 34  acc_now_delinq              39717 non-null  int64  \n",
      " 35  chargeoff_within_12_mths    39661 non-null  float64\n",
      " 36  delinq_amnt                 39717 non-null  int64  \n",
      " 37  pub_rec_bankruptcies        39020 non-null  float64\n",
      " 38  tax_liens                   39678 non-null  float64\n",
      "dtypes: float64(9), int64(10), object(20)\n",
      "memory usage: 11.8+ MB\n"
     ]
    }
   ],
   "source": [
    "loan_df.info()"
   ]
  },
  {
   "cell_type": "code",
   "execution_count": 162,
   "id": "992a36a7",
   "metadata": {},
   "outputs": [],
   "source": [
    "def zero_NA_percentage(col):\n",
    "    col.value_counts(dropna=False).plot.pie(autopct='%.2f',figsize=(4,4))\n",
    "    plt.show()"
   ]
  },
  {
   "cell_type": "markdown",
   "id": "f7d3e3a1",
   "metadata": {},
   "source": [
    "### tax_liens - All the values are either 0 or NA"
   ]
  },
  {
   "cell_type": "code",
   "execution_count": 163,
   "id": "de5fc5b3",
   "metadata": {},
   "outputs": [
    {
     "data": {
      "image/png": "[encoded data removed]",
      "text/plain": [
       "<Figure size 288x288 with 1 Axes>"
      ]
     },
     "metadata": {},
     "output_type": "display_data"
    }
   ],
   "source": [
    "zero_NA_percentage(loan_df['tax_liens'])"
   ]
  },
  {
   "cell_type": "code",
   "execution_count": 164,
   "id": "1caaebfb",
   "metadata": {},
   "outputs": [],
   "source": [
    "loan_df.drop(columns=['tax_liens'],axis=1,inplace=True)"
   ]
  },
  {
   "cell_type": "code",
   "execution_count": 165,
   "id": "aac63acb",
   "metadata": {},
   "outputs": [
    {
     "data": {
      "image/png": "[encoded data removed]",
      "text/plain": [
       "<Figure size 288x288 with 1 Axes>"
      ]
     },
     "metadata": {},
     "output_type": "display_data"
    }
   ],
   "source": [
    "zero_NA_percentage(loan_df['delinq_amnt'])"
   ]
  },
  {
   "cell_type": "code",
   "execution_count": 166,
   "id": "43b94a07",
   "metadata": {},
   "outputs": [],
   "source": [
    "loan_df.drop(columns=['delinq_amnt'],axis=1,inplace=True)"
   ]
  },
  {
   "cell_type": "code",
   "execution_count": 167,
   "id": "2fbe3b75",
   "metadata": {},
   "outputs": [
    {
     "data": {
      "image/png": "[encoded data removed]",
      "text/plain": [
       "<Figure size 288x288 with 1 Axes>"
      ]
     },
     "metadata": {},
     "output_type": "display_data"
    }
   ],
   "source": [
    "zero_NA_percentage(loan_df['chargeoff_within_12_mths'])"
   ]
  },
  {
   "cell_type": "code",
   "execution_count": 168,
   "id": "3293f77d",
   "metadata": {},
   "outputs": [],
   "source": [
    "loan_df.drop(columns=['chargeoff_within_12_mths'],axis=1,inplace=True)"
   ]
  },
  {
   "cell_type": "code",
   "execution_count": 169,
   "id": "d8e92b3c",
   "metadata": {},
   "outputs": [
    {
     "data": {
      "image/png": "[encoded data removed]",
      "text/plain": [
       "<Figure size 288x288 with 1 Axes>"
      ]
     },
     "metadata": {},
     "output_type": "display_data"
    }
   ],
   "source": [
    "zero_NA_percentage(loan_df['acc_now_delinq'])"
   ]
  },
  {
   "cell_type": "code",
   "execution_count": 170,
   "id": "73f748cf",
   "metadata": {},
   "outputs": [],
   "source": [
    "loan_df.drop(columns=['acc_now_delinq'],axis=1,inplace=True)"
   ]
  },
  {
   "cell_type": "code",
   "execution_count": 171,
   "id": "ae53082a",
   "metadata": {},
   "outputs": [
    {
     "data": {
      "image/png": "[encoded data removed]",
      "text/plain": [
       "<Figure size 288x288 with 1 Axes>"
      ]
     },
     "metadata": {},
     "output_type": "display_data"
    }
   ],
   "source": [
    "zero_NA_percentage(loan_df['policy_code'])"
   ]
  },
  {
   "cell_type": "code",
   "execution_count": 172,
   "id": "bd3be504",
   "metadata": {},
   "outputs": [],
   "source": [
    "loan_df.drop(columns=['policy_code'],axis=1,inplace=True)"
   ]
  },
  {
   "cell_type": "code",
   "execution_count": 173,
   "id": "9041e97f",
   "metadata": {},
   "outputs": [
    {
     "data": {
      "image/png": "[encoded data removed]",
      "text/plain": [
       "<Figure size 288x288 with 1 Axes>"
      ]
     },
     "metadata": {},
     "output_type": "display_data"
    }
   ],
   "source": [
    "zero_NA_percentage(loan_df['collections_12_mths_ex_med'])"
   ]
  },
  {
   "cell_type": "code",
   "execution_count": 174,
   "id": "43d25a39",
   "metadata": {},
   "outputs": [],
   "source": [
    "loan_df.drop(columns=['collections_12_mths_ex_med'],axis=1,inplace=True)"
   ]
  },
  {
   "cell_type": "code",
   "execution_count": 175,
   "id": "be85fb50",
   "metadata": {},
   "outputs": [
    {
     "data": {
      "image/png": "[encoded data removed]",
      "text/plain": [
       "<Figure size 288x288 with 1 Axes>"
      ]
     },
     "metadata": {},
     "output_type": "display_data"
    }
   ],
   "source": [
    "zero_NA_percentage(loan_df['initial_list_status'])"
   ]
  },
  {
   "cell_type": "code",
   "execution_count": 176,
   "id": "939c6a39",
   "metadata": {},
   "outputs": [],
   "source": [
    "loan_df.drop(columns=['initial_list_status'],axis=1,inplace=True)"
   ]
  },
  {
   "cell_type": "code",
   "execution_count": 177,
   "id": "05dfe68c",
   "metadata": {},
   "outputs": [
    {
     "data": {
      "image/png": "[encoded data removed]",
      "text/plain": [
       "<Figure size 288x288 with 1 Axes>"
      ]
     },
     "metadata": {},
     "output_type": "display_data"
    }
   ],
   "source": [
    "zero_NA_percentage(loan_df['pymnt_plan'])"
   ]
  },
  {
   "cell_type": "code",
   "execution_count": 178,
   "id": "22dee683",
   "metadata": {},
   "outputs": [],
   "source": [
    "loan_df.drop(columns=['pymnt_plan'],axis=1,inplace=True)"
   ]
  },
  {
   "cell_type": "code",
   "execution_count": 272,
   "id": "75704dfb",
   "metadata": {},
   "outputs": [
    {
     "data": {
      "image/png": "[encoded data removed]",
      "text/plain": [
       "<Figure size 288x288 with 1 Axes>"
      ]
     },
     "metadata": {},
     "output_type": "display_data"
    }
   ],
   "source": [
    "zero_NA_percentage(loan_df['out_prncp'])"
   ]
  },
  {
   "cell_type": "code",
   "execution_count": 273,
   "id": "afbaf7dd",
   "metadata": {},
   "outputs": [],
   "source": [
    "loan_df.drop(columns=['out_prncp'],axis=1,inplace=True)"
   ]
  },
  {
   "cell_type": "code",
   "execution_count": 179,
   "id": "e52d00fd",
   "metadata": {},
   "outputs": [
    {
     "data": {
      "text/plain": [
       "Index(['id', 'member_id', 'loan_amnt', 'term', 'int_rate', 'installment',\n",
       "       'grade', 'sub_grade', 'emp_title', 'emp_length', 'home_ownership',\n",
       "       'annual_inc', 'verification_status', 'issue_d', 'loan_status', 'desc',\n",
       "       'purpose', 'title', 'zip_code', 'addr_state', 'dti', 'earliest_cr_line',\n",
       "       'mths_since_last_record', 'open_acc', 'pub_rec', 'revol_bal',\n",
       "       'revol_util', 'total_acc', 'out_prncp', 'application_type',\n",
       "       'pub_rec_bankruptcies'],\n",
       "      dtype='object')"
      ]
     },
     "execution_count": 179,
     "metadata": {},
     "output_type": "execute_result"
    }
   ],
   "source": [
    "loan_df.columns"
   ]
  },
  {
   "cell_type": "code",
   "execution_count": null,
   "id": "949c1358",
   "metadata": {},
   "outputs": [],
   "source": []
  },
  {
   "cell_type": "code",
   "execution_count": 180,
   "id": "bdf34127",
   "metadata": {},
   "outputs": [
    {
     "data": {
      "text/plain": [
       "(39717, 31)"
      ]
     },
     "execution_count": 180,
     "metadata": {},
     "output_type": "execute_result"
    }
   ],
   "source": [
    "loan_df.shape"
   ]
  },
  {
   "cell_type": "code",
   "execution_count": 181,
   "id": "edbfe16d",
   "metadata": {
    "scrolled": true
   },
   "outputs": [
    {
     "name": "stdout",
     "output_type": "stream",
     "text": [
      "<class 'pandas.core.frame.DataFrame'>\n",
      "RangeIndex: 39717 entries, 0 to 39716\n",
      "Data columns (total 31 columns):\n",
      " #   Column                  Non-Null Count  Dtype  \n",
      "---  ------                  --------------  -----  \n",
      " 0   id                      39717 non-null  int64  \n",
      " 1   member_id               39717 non-null  int64  \n",
      " 2   loan_amnt               39717 non-null  int64  \n",
      " 3   term                    39717 non-null  object \n",
      " 4   int_rate                39717 non-null  object \n",
      " 5   installment             39717 non-null  float64\n",
      " 6   grade                   39717 non-null  object \n",
      " 7   sub_grade               39717 non-null  object \n",
      " 8   emp_title               37258 non-null  object \n",
      " 9   emp_length              38642 non-null  object \n",
      " 10  home_ownership          39717 non-null  object \n",
      " 11  annual_inc              39717 non-null  float64\n",
      " 12  verification_status     39717 non-null  object \n",
      " 13  issue_d                 39717 non-null  object \n",
      " 14  loan_status             39717 non-null  object \n",
      " 15  desc                    26777 non-null  object \n",
      " 16  purpose                 39717 non-null  object \n",
      " 17  title                   39706 non-null  object \n",
      " 18  zip_code                39717 non-null  object \n",
      " 19  addr_state              39717 non-null  object \n",
      " 20  dti                     39717 non-null  float64\n",
      " 21  earliest_cr_line        39717 non-null  object \n",
      " 22  mths_since_last_record  2786 non-null   float64\n",
      " 23  open_acc                39717 non-null  int64  \n",
      " 24  pub_rec                 39717 non-null  int64  \n",
      " 25  revol_bal               39717 non-null  int64  \n",
      " 26  revol_util              39667 non-null  object \n",
      " 27  total_acc               39717 non-null  int64  \n",
      " 28  out_prncp               39717 non-null  float64\n",
      " 29  application_type        39717 non-null  object \n",
      " 30  pub_rec_bankruptcies    39020 non-null  float64\n",
      "dtypes: float64(6), int64(7), object(18)\n",
      "memory usage: 9.4+ MB\n"
     ]
    }
   ],
   "source": [
    "loan_df.info()"
   ]
  },
  {
   "cell_type": "markdown",
   "id": "07eff3d2",
   "metadata": {},
   "source": [
    "#### check to see if any numeric column types needs to be corrected"
   ]
  },
  {
   "cell_type": "code",
   "execution_count": 194,
   "id": "10371008",
   "metadata": {},
   "outputs": [
    {
     "data": {
      "text/plain": [
       "count    39020.000000\n",
       "mean         0.043260\n",
       "std          0.204324\n",
       "min          0.000000\n",
       "25%          0.000000\n",
       "50%          0.000000\n",
       "75%          0.000000\n",
       "max          2.000000\n",
       "Name: pub_rec_bankruptcies, dtype: float64"
      ]
     },
     "execution_count": 194,
     "metadata": {},
     "output_type": "execute_result"
    }
   ],
   "source": [
    "loan_df.pub_rec_bankruptcies.describe()"
   ]
  },
  {
   "cell_type": "markdown",
   "id": "8c8ba3ff",
   "metadata": {},
   "source": [
    "#### check rows and columns with  missing values\n",
    "     39717 total entries\n",
    "     "
   ]
  },
  {
   "cell_type": "code",
   "execution_count": 200,
   "id": "de088c2f",
   "metadata": {},
   "outputs": [
    {
     "data": {
      "text/plain": [
       "32.58050708764509"
      ]
     },
     "execution_count": 200,
     "metadata": {},
     "output_type": "execute_result"
    }
   ],
   "source": [
    "(len(loan_df.desc)-loan_df.desc.count())/len(loan_df.desc)* 100"
   ]
  },
  {
   "cell_type": "code",
   "execution_count": null,
   "id": "c944bf6a",
   "metadata": {},
   "outputs": [],
   "source": [
    "loan_df.drop(columns=['desc'],axis=1,inplace=True)"
   ]
  },
  {
   "cell_type": "code",
   "execution_count": 205,
   "id": "10b3b5ab",
   "metadata": {},
   "outputs": [
    {
     "data": {
      "text/plain": [
       "(39717, 30)"
      ]
     },
     "execution_count": 205,
     "metadata": {},
     "output_type": "execute_result"
    }
   ],
   "source": [
    "loan_df.shape"
   ]
  },
  {
   "cell_type": "code",
   "execution_count": 208,
   "id": "a7ecd72d",
   "metadata": {},
   "outputs": [
    {
     "data": {
      "text/plain": [
       "92.98537150338646"
      ]
     },
     "execution_count": 208,
     "metadata": {},
     "output_type": "execute_result"
    }
   ],
   "source": [
    "\n",
    "(len(loan_df.mths_since_last_record)-loan_df.mths_since_last_record.count())/len(loan_df.mths_since_last_record)* 100"
   ]
  },
  {
   "cell_type": "code",
   "execution_count": 209,
   "id": "5e35dd61",
   "metadata": {},
   "outputs": [],
   "source": [
    "loan_df.drop(columns=['mths_since_last_record'],axis=1,inplace=True)"
   ]
  },
  {
   "cell_type": "code",
   "execution_count": null,
   "id": "bb8b7c19",
   "metadata": {},
   "outputs": [],
   "source": []
  },
  {
   "cell_type": "markdown",
   "id": "f00c04b7",
   "metadata": {},
   "source": [
    "##### dropping id and member_id , since they wont be affect any analysis"
   ]
  },
  {
   "cell_type": "code",
   "execution_count": 234,
   "id": "fbc3c9bf",
   "metadata": {},
   "outputs": [],
   "source": [
    "loan_df.drop(columns=['id'],axis=1,inplace=True)\n",
    "loan_df.drop(columns=['member_id'],axis=1,inplace=True)"
   ]
  },
  {
   "cell_type": "code",
   "execution_count": null,
   "id": "7ab39587",
   "metadata": {},
   "outputs": [],
   "source": []
  },
  {
   "cell_type": "code",
   "execution_count": 235,
   "id": "ffefa6c8",
   "metadata": {},
   "outputs": [
    {
     "data": {
      "text/plain": [
       "(38577, 27)"
      ]
     },
     "execution_count": 235,
     "metadata": {},
     "output_type": "execute_result"
    }
   ],
   "source": [
    "loan_df.shape"
   ]
  },
  {
   "cell_type": "markdown",
   "id": "e811d688",
   "metadata": {},
   "source": [
    "## Final dataframe after data cleaning of missing and empty columns"
   ]
  },
  {
   "cell_type": "code",
   "execution_count": 236,
   "id": "2d4d2984",
   "metadata": {
    "scrolled": true
   },
   "outputs": [
    {
     "name": "stdout",
     "output_type": "stream",
     "text": [
      "<class 'pandas.core.frame.DataFrame'>\n",
      "Int64Index: 38577 entries, 0 to 39716\n",
      "Data columns (total 27 columns):\n",
      " #   Column                Non-Null Count  Dtype  \n",
      "---  ------                --------------  -----  \n",
      " 0   loan_amnt             38577 non-null  int64  \n",
      " 1   term                  38577 non-null  object \n",
      " 2   int_rate              38577 non-null  object \n",
      " 3   installment           38577 non-null  float64\n",
      " 4   grade                 38577 non-null  object \n",
      " 5   sub_grade             38577 non-null  object \n",
      " 6   emp_title             36191 non-null  object \n",
      " 7   emp_length            37544 non-null  object \n",
      " 8   home_ownership        38577 non-null  object \n",
      " 9   annual_inc            38577 non-null  float64\n",
      " 10  verification_status   38577 non-null  object \n",
      " 11  issue_d               38577 non-null  object \n",
      " 12  loan_status           38577 non-null  int64  \n",
      " 13  purpose               38577 non-null  object \n",
      " 14  title                 38566 non-null  object \n",
      " 15  zip_code              38577 non-null  object \n",
      " 16  addr_state            38577 non-null  object \n",
      " 17  dti                   38577 non-null  float64\n",
      " 18  earliest_cr_line      38577 non-null  object \n",
      " 19  open_acc              38577 non-null  int64  \n",
      " 20  pub_rec               38577 non-null  int64  \n",
      " 21  revol_bal             38577 non-null  int64  \n",
      " 22  revol_util            38527 non-null  object \n",
      " 23  total_acc             38577 non-null  int64  \n",
      " 24  out_prncp             38577 non-null  float64\n",
      " 25  application_type      38577 non-null  object \n",
      " 26  pub_rec_bankruptcies  37880 non-null  float64\n",
      "dtypes: float64(5), int64(6), object(16)\n",
      "memory usage: 8.2+ MB\n"
     ]
    }
   ],
   "source": [
    "loan_df.info()"
   ]
  },
  {
   "cell_type": "code",
   "execution_count": 237,
   "id": "4665613a",
   "metadata": {
    "scrolled": true
   },
   "outputs": [
    {
     "data": {
      "text/html": [
       "<div>\n",
       "<style scoped>\n",
       "    .dataframe tbody tr th:only-of-type {\n",
       "        vertical-align: middle;\n",
       "    }\n",
       "\n",
       "    .dataframe tbody tr th {\n",
       "        vertical-align: top;\n",
       "    }\n",
       "\n",
       "    .dataframe thead th {\n",
       "        text-align: right;\n",
       "    }\n",
       "</style>\n",
       "<table border=\"1\" class=\"dataframe\">\n",
       "  <thead>\n",
       "    <tr style=\"text-align: right;\">\n",
       "      <th></th>\n",
       "      <th>Description</th>\n",
       "    </tr>\n",
       "    <tr>\n",
       "      <th>LoanStatNew</th>\n",
       "      <th></th>\n",
       "    </tr>\n",
       "  </thead>\n",
       "  <tbody>\n",
       "    <tr>\n",
       "      <th>loan_amnt</th>\n",
       "      <td>The listed amount of the loan applied for by the borrower. If at some point in time, the credit department reduces the loan amount, then it will be reflected in this value.</td>\n",
       "    </tr>\n",
       "    <tr>\n",
       "      <th>term</th>\n",
       "      <td>The number of payments on the loan. Values are in months and can be either 36 or 60.</td>\n",
       "    </tr>\n",
       "    <tr>\n",
       "      <th>int_rate</th>\n",
       "      <td>Interest Rate on the loan</td>\n",
       "    </tr>\n",
       "    <tr>\n",
       "      <th>installment</th>\n",
       "      <td>The monthly payment owed by the borrower if the loan originates.</td>\n",
       "    </tr>\n",
       "    <tr>\n",
       "      <th>grade</th>\n",
       "      <td>LC assigned loan grade</td>\n",
       "    </tr>\n",
       "    <tr>\n",
       "      <th>sub_grade</th>\n",
       "      <td>LC assigned loan subgrade</td>\n",
       "    </tr>\n",
       "    <tr>\n",
       "      <th>emp_title</th>\n",
       "      <td>The job title supplied by the Borrower when applying for the loan.*</td>\n",
       "    </tr>\n",
       "    <tr>\n",
       "      <th>emp_length</th>\n",
       "      <td>Employment length in years. Possible values are between 0 and 10 where 0 means less than one year and 10 means ten or more years.</td>\n",
       "    </tr>\n",
       "    <tr>\n",
       "      <th>home_ownership</th>\n",
       "      <td>The home ownership status provided by the borrower during registration. Our values are: RENT, OWN, MORTGAGE, OTHER.</td>\n",
       "    </tr>\n",
       "    <tr>\n",
       "      <th>annual_inc</th>\n",
       "      <td>The self-reported annual income provided by the borrower during registration.</td>\n",
       "    </tr>\n",
       "    <tr>\n",
       "      <th>verification_status</th>\n",
       "      <td>Indicates if income was verified by LC, not verified, or if the income source was verified</td>\n",
       "    </tr>\n",
       "    <tr>\n",
       "      <th>issue_d</th>\n",
       "      <td>The month which the loan was funded</td>\n",
       "    </tr>\n",
       "    <tr>\n",
       "      <th>loan_status</th>\n",
       "      <td>Current status of the loan</td>\n",
       "    </tr>\n",
       "    <tr>\n",
       "      <th>purpose</th>\n",
       "      <td>A category provided by the borrower for the loan request.</td>\n",
       "    </tr>\n",
       "    <tr>\n",
       "      <th>title</th>\n",
       "      <td>The loan title provided by the borrower</td>\n",
       "    </tr>\n",
       "    <tr>\n",
       "      <th>zip_code</th>\n",
       "      <td>The first 3 numbers of the zip code provided by the borrower in the loan application.</td>\n",
       "    </tr>\n",
       "    <tr>\n",
       "      <th>addr_state</th>\n",
       "      <td>The state provided by the borrower in the loan application</td>\n",
       "    </tr>\n",
       "    <tr>\n",
       "      <th>dti</th>\n",
       "      <td>A ratio calculated using the borrower’s total monthly debt payments on the total debt obligations, excluding mortgage and the requested LC loan, divided by the borrower’s self-reported monthly income.</td>\n",
       "    </tr>\n",
       "    <tr>\n",
       "      <th>earliest_cr_line</th>\n",
       "      <td>The month the borrower's earliest reported credit line was opened</td>\n",
       "    </tr>\n",
       "    <tr>\n",
       "      <th>open_acc</th>\n",
       "      <td>The number of open credit lines in the borrower's credit file.</td>\n",
       "    </tr>\n",
       "    <tr>\n",
       "      <th>pub_rec</th>\n",
       "      <td>Number of derogatory public records</td>\n",
       "    </tr>\n",
       "    <tr>\n",
       "      <th>revol_bal</th>\n",
       "      <td>Total credit revolving balance</td>\n",
       "    </tr>\n",
       "    <tr>\n",
       "      <th>revol_util</th>\n",
       "      <td>Revolving line utilization rate, or the amount of credit the borrower is using relative to all available revolving credit.</td>\n",
       "    </tr>\n",
       "    <tr>\n",
       "      <th>total_acc</th>\n",
       "      <td>The total number of credit lines currently in the borrower's credit file</td>\n",
       "    </tr>\n",
       "    <tr>\n",
       "      <th>out_prncp</th>\n",
       "      <td>Remaining outstanding principal for total amount funded</td>\n",
       "    </tr>\n",
       "    <tr>\n",
       "      <th>application_type</th>\n",
       "      <td>Indicates whether the loan is an individual application or a joint application with two co-borrowers</td>\n",
       "    </tr>\n",
       "    <tr>\n",
       "      <th>pub_rec_bankruptcies</th>\n",
       "      <td>Number of public record bankruptcies</td>\n",
       "    </tr>\n",
       "  </tbody>\n",
       "</table>\n",
       "</div>"
      ],
      "text/plain": [
       "                                                                                                                                                                                                                   Description\n",
       "LoanStatNew                                                                                                                                                                                                                   \n",
       "loan_amnt                                         The listed amount of the loan applied for by the borrower. If at some point in time, the credit department reduces the loan amount, then it will be reflected in this value.\n",
       "term                                                                                                                                      The number of payments on the loan. Values are in months and can be either 36 or 60.\n",
       "int_rate                                                                                                                                                                                             Interest Rate on the loan\n",
       "installment                                                                                                                                                   The monthly payment owed by the borrower if the loan originates.\n",
       "grade                                                                                                                                                                                                   LC assigned loan grade\n",
       "sub_grade                                                                                                                                                                                            LC assigned loan subgrade\n",
       "emp_title                                                                                                                                                  The job title supplied by the Borrower when applying for the loan.*\n",
       "emp_length                                                                                  Employment length in years. Possible values are between 0 and 10 where 0 means less than one year and 10 means ten or more years. \n",
       "home_ownership                                                                                             The home ownership status provided by the borrower during registration. Our values are: RENT, OWN, MORTGAGE, OTHER.\n",
       "annual_inc                                                                                                                                       The self-reported annual income provided by the borrower during registration.\n",
       "verification_status                                                                                                                 Indicates if income was verified by LC, not verified, or if the income source was verified\n",
       "issue_d                                                                                                                                                                                    The month which the loan was funded\n",
       "loan_status                                                                                                                                                                                         Current status of the loan\n",
       "purpose                                                                                                                                                             A category provided by the borrower for the loan request. \n",
       "title                                                                                                                                                                                  The loan title provided by the borrower\n",
       "zip_code                                                                                                                                 The first 3 numbers of the zip code provided by the borrower in the loan application.\n",
       "addr_state                                                                                                                                                          The state provided by the borrower in the loan application\n",
       "dti                   A ratio calculated using the borrower’s total monthly debt payments on the total debt obligations, excluding mortgage and the requested LC loan, divided by the borrower’s self-reported monthly income.\n",
       "earliest_cr_line                                                                                                                                             The month the borrower's earliest reported credit line was opened\n",
       "open_acc                                                                                                                                                        The number of open credit lines in the borrower's credit file.\n",
       "pub_rec                                                                                                                                                                                    Number of derogatory public records\n",
       "revol_bal                                                                                                                                                                                       Total credit revolving balance\n",
       "revol_util                                                                                          Revolving line utilization rate, or the amount of credit the borrower is using relative to all available revolving credit.\n",
       "total_acc                                                                                                                                             The total number of credit lines currently in the borrower's credit file\n",
       "out_prncp                                                                                                                                                              Remaining outstanding principal for total amount funded\n",
       "application_type                                                                                                          Indicates whether the loan is an individual application or a joint application with two co-borrowers\n",
       "pub_rec_bankruptcies                                                                                                                                                                      Number of public record bankruptcies"
      ]
     },
     "execution_count": 237,
     "metadata": {},
     "output_type": "execute_result"
    }
   ],
   "source": [
    "pd.set_option('max_colwidth', None)\n",
    "data_dict.loc[loan_df.columns.values]"
   ]
  },
  {
   "cell_type": "code",
   "execution_count": 238,
   "id": "4fc0eaba",
   "metadata": {},
   "outputs": [],
   "source": [
    "pd.reset_option('max_colwidth')"
   ]
  },
  {
   "cell_type": "markdown",
   "id": "557bfc3e",
   "metadata": {},
   "source": [
    "# Data Analysis"
   ]
  },
  {
   "cell_type": "code",
   "execution_count": 218,
   "id": "f3c3cfc0",
   "metadata": {},
   "outputs": [
    {
     "data": {
      "text/plain": [
       "Fully Paid     32950\n",
       "Charged Off     5627\n",
       "Current         1140\n",
       "Name: loan_status, dtype: int64"
      ]
     },
     "execution_count": 218,
     "metadata": {},
     "output_type": "execute_result"
    }
   ],
   "source": [
    "loan_df.loan_status.value_counts()"
   ]
  },
  {
   "cell_type": "markdown",
   "id": "d434398e",
   "metadata": {},
   "source": [
    "###  dropping rows with loan _status as Current"
   ]
  },
  {
   "cell_type": "code",
   "execution_count": 222,
   "id": "1b4dac23",
   "metadata": {},
   "outputs": [],
   "source": [
    "loan_df=loan_df[~(loan_df.loan_status=='Current')]"
   ]
  },
  {
   "cell_type": "code",
   "execution_count": 224,
   "id": "ac1f8491",
   "metadata": {},
   "outputs": [
    {
     "data": {
      "text/plain": [
       "(38577, 29)"
      ]
     },
     "execution_count": 224,
     "metadata": {},
     "output_type": "execute_result"
    }
   ],
   "source": [
    "loan_df.shape"
   ]
  },
  {
   "cell_type": "markdown",
   "id": "21515b1f",
   "metadata": {},
   "source": [
    "#### putting 1 or 0 for Fully Paid and Charged Off respectively , so that it can be treated for  numerical analysis "
   ]
  },
  {
   "cell_type": "code",
   "execution_count": 231,
   "id": "38a85b69",
   "metadata": {
    "scrolled": true
   },
   "outputs": [],
   "source": [
    "loan_df.loan_status= loan_df.loan_status.apply(lambda x:1 if x=='Fully Paid' else 0)"
   ]
  },
  {
   "cell_type": "markdown",
   "id": "94cfa04a",
   "metadata": {},
   "source": [
    "### Univariate Analysis"
   ]
  },
  {
   "cell_type": "code",
   "execution_count": 239,
   "id": "75d268e8",
   "metadata": {},
   "outputs": [
    {
     "data": {
      "text/plain": [
       "count    38577.000000\n",
       "mean     11047.025430\n",
       "std       7348.441646\n",
       "min        500.000000\n",
       "25%       5300.000000\n",
       "50%       9600.000000\n",
       "75%      15000.000000\n",
       "max      35000.000000\n",
       "Name: loan_amnt, dtype: float64"
      ]
     },
     "execution_count": 239,
     "metadata": {},
     "output_type": "execute_result"
    }
   ],
   "source": [
    "#loan_amnt\n",
    "loan_df.loan_amnt.describe()"
   ]
  },
  {
   "cell_type": "code",
   "execution_count": null,
   "id": "5064bcbf",
   "metadata": {},
   "outputs": [],
   "source": []
  },
  {
   "cell_type": "code",
   "execution_count": 254,
   "id": "6b595501",
   "metadata": {
    "scrolled": true
   },
   "outputs": [
    {
     "data": {
      "image/png": "[encoded data removed]",
      "text/plain": [
       "<Figure size 432x288 with 1 Axes>"
      ]
     },
     "metadata": {
      "needs_background": "light"
     },
     "output_type": "display_data"
    }
   ],
   "source": [
    "sns.distplot(loan_df.loan_amnt,kde=False)\n",
    "plt.title(\"Distribution of Loan Amount\",fontsize=25,color=\"b\")\n",
    "plt.show()"
   ]
  },
  {
   "cell_type": "markdown",
   "id": "c4a4a9dc",
   "metadata": {},
   "source": [
    " - We can see peaks at round amounts like 5000,10000,15000,25000 etc\n",
    " - 10000 is the most favoured amount and 35000 is the max loan amount applied for \n",
    "    \n"
   ]
  },
  {
   "cell_type": "code",
   "execution_count": 274,
   "id": "ca87e6c3",
   "metadata": {},
   "outputs": [
    {
     "data": {
      "text/html": [
       "<div>\n",
       "<style scoped>\n",
       "    .dataframe tbody tr th:only-of-type {\n",
       "        vertical-align: middle;\n",
       "    }\n",
       "\n",
       "    .dataframe tbody tr th {\n",
       "        vertical-align: top;\n",
       "    }\n",
       "\n",
       "    .dataframe thead th {\n",
       "        text-align: right;\n",
       "    }\n",
       "</style>\n",
       "<table border=\"1\" class=\"dataframe\">\n",
       "  <thead>\n",
       "    <tr style=\"text-align: right;\">\n",
       "      <th></th>\n",
       "      <th>loan_amnt</th>\n",
       "      <th>installment</th>\n",
       "      <th>annual_inc</th>\n",
       "      <th>loan_status</th>\n",
       "      <th>dti</th>\n",
       "      <th>open_acc</th>\n",
       "      <th>pub_rec</th>\n",
       "      <th>revol_bal</th>\n",
       "      <th>total_acc</th>\n",
       "      <th>pub_rec_bankruptcies</th>\n",
       "    </tr>\n",
       "  </thead>\n",
       "  <tbody>\n",
       "    <tr>\n",
       "      <th>0</th>\n",
       "      <td>5000</td>\n",
       "      <td>162.87</td>\n",
       "      <td>24000.0</td>\n",
       "      <td>1</td>\n",
       "      <td>27.65</td>\n",
       "      <td>3</td>\n",
       "      <td>0</td>\n",
       "      <td>13648</td>\n",
       "      <td>9</td>\n",
       "      <td>0.0</td>\n",
       "    </tr>\n",
       "    <tr>\n",
       "      <th>1</th>\n",
       "      <td>2500</td>\n",
       "      <td>59.83</td>\n",
       "      <td>30000.0</td>\n",
       "      <td>0</td>\n",
       "      <td>1.00</td>\n",
       "      <td>3</td>\n",
       "      <td>0</td>\n",
       "      <td>1687</td>\n",
       "      <td>4</td>\n",
       "      <td>0.0</td>\n",
       "    </tr>\n",
       "    <tr>\n",
       "      <th>2</th>\n",
       "      <td>2400</td>\n",
       "      <td>84.33</td>\n",
       "      <td>12252.0</td>\n",
       "      <td>1</td>\n",
       "      <td>8.72</td>\n",
       "      <td>2</td>\n",
       "      <td>0</td>\n",
       "      <td>2956</td>\n",
       "      <td>10</td>\n",
       "      <td>0.0</td>\n",
       "    </tr>\n",
       "    <tr>\n",
       "      <th>3</th>\n",
       "      <td>10000</td>\n",
       "      <td>339.31</td>\n",
       "      <td>49200.0</td>\n",
       "      <td>1</td>\n",
       "      <td>20.00</td>\n",
       "      <td>10</td>\n",
       "      <td>0</td>\n",
       "      <td>5598</td>\n",
       "      <td>37</td>\n",
       "      <td>0.0</td>\n",
       "    </tr>\n",
       "    <tr>\n",
       "      <th>5</th>\n",
       "      <td>5000</td>\n",
       "      <td>156.46</td>\n",
       "      <td>36000.0</td>\n",
       "      <td>1</td>\n",
       "      <td>11.20</td>\n",
       "      <td>9</td>\n",
       "      <td>0</td>\n",
       "      <td>7963</td>\n",
       "      <td>12</td>\n",
       "      <td>0.0</td>\n",
       "    </tr>\n",
       "  </tbody>\n",
       "</table>\n",
       "</div>"
      ],
      "text/plain": [
       "   loan_amnt  installment  annual_inc  loan_status    dti  open_acc  pub_rec  \\\n",
       "0       5000       162.87     24000.0            1  27.65         3        0   \n",
       "1       2500        59.83     30000.0            0   1.00         3        0   \n",
       "2       2400        84.33     12252.0            1   8.72         2        0   \n",
       "3      10000       339.31     49200.0            1  20.00        10        0   \n",
       "5       5000       156.46     36000.0            1  11.20         9        0   \n",
       "\n",
       "   revol_bal  total_acc  pub_rec_bankruptcies  \n",
       "0      13648          9                   0.0  \n",
       "1       1687          4                   0.0  \n",
       "2       2956         10                   0.0  \n",
       "3       5598         37                   0.0  \n",
       "5       7963         12                   0.0  "
      ]
     },
     "execution_count": 274,
     "metadata": {},
     "output_type": "execute_result"
    }
   ],
   "source": [
    "loan_df_intTypes = loan_df.select_dtypes(include = ['float64', 'int64'])\n",
    "loan_df_intTypes.head()"
   ]
  },
  {
   "cell_type": "code",
   "execution_count": 276,
   "id": "55d9b8ce",
   "metadata": {},
   "outputs": [
    {
     "name": "stdout",
     "output_type": "stream",
     "text": [
      "Object `cmap` not found.\n"
     ]
    }
   ],
   "source": []
  },
  {
   "cell_type": "code",
   "execution_count": 275,
   "id": "4774bfee",
   "metadata": {},
   "outputs": [
    {
     "data": {
      "image/png": "[encoded data removed]",
      "text/plain": [
       "<Figure size 504x504 with 2 Axes>"
      ]
     },
     "metadata": {
      "needs_background": "light"
     },
     "output_type": "display_data"
    }
   ],
   "source": [
    "plt.figure(figsize=(7,7))\n",
    "corrmat = loan_df.corr() \n",
    "sns.heatmap(round(corrmat,2), cmap='RdBu', annot=True, annot_kws={\"size\": 10}, vmin=-1, vmax=1); \n",
    "plt.show()"
   ]
  }
 ],
 "metadata": {
  "kernelspec": {
   "display_name": "Python 3",
   "language": "python",
   "name": "python3"
  },
  "language_info": {
   "codemirror_mode": {
    "name": "ipython",
    "version": 3
   },
   "file_extension": ".py",
   "mimetype": "text/x-python",
   "name": "python",
   "nbconvert_exporter": "python",
   "pygments_lexer": "ipython3",
   "version": "3.8.8"
  }
 },
 "nbformat": 4,
 "nbformat_minor": 5
}
